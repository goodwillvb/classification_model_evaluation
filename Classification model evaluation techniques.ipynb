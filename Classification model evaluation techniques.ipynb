{
 "cells": [
  {
   "cell_type": "code",
   "execution_count": 1,
   "metadata": {},
   "outputs": [],
   "source": [
    "import pandas as pd\n",
    "import numpy as np\n",
    "import matplotlib.pyplot as plt\n",
    "%matplotlib inline"
   ]
  },
  {
   "cell_type": "code",
   "execution_count": 2,
   "metadata": {
    "scrolled": true
   },
   "outputs": [
    {
     "data": {
      "text/html": [
       "<div>\n",
       "<style scoped>\n",
       "    .dataframe tbody tr th:only-of-type {\n",
       "        vertical-align: middle;\n",
       "    }\n",
       "\n",
       "    .dataframe tbody tr th {\n",
       "        vertical-align: top;\n",
       "    }\n",
       "\n",
       "    .dataframe thead th {\n",
       "        text-align: right;\n",
       "    }\n",
       "</style>\n",
       "<table border=\"1\" class=\"dataframe\">\n",
       "  <thead>\n",
       "    <tr style=\"text-align: right;\">\n",
       "      <th></th>\n",
       "      <th>Time</th>\n",
       "      <th>V1</th>\n",
       "      <th>V2</th>\n",
       "      <th>V3</th>\n",
       "      <th>V4</th>\n",
       "      <th>V5</th>\n",
       "      <th>V6</th>\n",
       "      <th>V7</th>\n",
       "      <th>V8</th>\n",
       "      <th>V9</th>\n",
       "      <th>...</th>\n",
       "      <th>V21</th>\n",
       "      <th>V22</th>\n",
       "      <th>V23</th>\n",
       "      <th>V24</th>\n",
       "      <th>V25</th>\n",
       "      <th>V26</th>\n",
       "      <th>V27</th>\n",
       "      <th>V28</th>\n",
       "      <th>Amount</th>\n",
       "      <th>Class</th>\n",
       "    </tr>\n",
       "  </thead>\n",
       "  <tbody>\n",
       "    <tr>\n",
       "      <th>0</th>\n",
       "      <td>0.0</td>\n",
       "      <td>-1.359807</td>\n",
       "      <td>-0.072781</td>\n",
       "      <td>2.536347</td>\n",
       "      <td>1.378155</td>\n",
       "      <td>-0.338321</td>\n",
       "      <td>0.462388</td>\n",
       "      <td>0.239599</td>\n",
       "      <td>0.098698</td>\n",
       "      <td>0.363787</td>\n",
       "      <td>...</td>\n",
       "      <td>-0.018307</td>\n",
       "      <td>0.277838</td>\n",
       "      <td>-0.110474</td>\n",
       "      <td>0.066928</td>\n",
       "      <td>0.128539</td>\n",
       "      <td>-0.189115</td>\n",
       "      <td>0.133558</td>\n",
       "      <td>-0.021053</td>\n",
       "      <td>149.62</td>\n",
       "      <td>0</td>\n",
       "    </tr>\n",
       "    <tr>\n",
       "      <th>1</th>\n",
       "      <td>0.0</td>\n",
       "      <td>1.191857</td>\n",
       "      <td>0.266151</td>\n",
       "      <td>0.166480</td>\n",
       "      <td>0.448154</td>\n",
       "      <td>0.060018</td>\n",
       "      <td>-0.082361</td>\n",
       "      <td>-0.078803</td>\n",
       "      <td>0.085102</td>\n",
       "      <td>-0.255425</td>\n",
       "      <td>...</td>\n",
       "      <td>-0.225775</td>\n",
       "      <td>-0.638672</td>\n",
       "      <td>0.101288</td>\n",
       "      <td>-0.339846</td>\n",
       "      <td>0.167170</td>\n",
       "      <td>0.125895</td>\n",
       "      <td>-0.008983</td>\n",
       "      <td>0.014724</td>\n",
       "      <td>2.69</td>\n",
       "      <td>0</td>\n",
       "    </tr>\n",
       "    <tr>\n",
       "      <th>2</th>\n",
       "      <td>1.0</td>\n",
       "      <td>-1.358354</td>\n",
       "      <td>-1.340163</td>\n",
       "      <td>1.773209</td>\n",
       "      <td>0.379780</td>\n",
       "      <td>-0.503198</td>\n",
       "      <td>1.800499</td>\n",
       "      <td>0.791461</td>\n",
       "      <td>0.247676</td>\n",
       "      <td>-1.514654</td>\n",
       "      <td>...</td>\n",
       "      <td>0.247998</td>\n",
       "      <td>0.771679</td>\n",
       "      <td>0.909412</td>\n",
       "      <td>-0.689281</td>\n",
       "      <td>-0.327642</td>\n",
       "      <td>-0.139097</td>\n",
       "      <td>-0.055353</td>\n",
       "      <td>-0.059752</td>\n",
       "      <td>378.66</td>\n",
       "      <td>0</td>\n",
       "    </tr>\n",
       "    <tr>\n",
       "      <th>3</th>\n",
       "      <td>1.0</td>\n",
       "      <td>-0.966272</td>\n",
       "      <td>-0.185226</td>\n",
       "      <td>1.792993</td>\n",
       "      <td>-0.863291</td>\n",
       "      <td>-0.010309</td>\n",
       "      <td>1.247203</td>\n",
       "      <td>0.237609</td>\n",
       "      <td>0.377436</td>\n",
       "      <td>-1.387024</td>\n",
       "      <td>...</td>\n",
       "      <td>-0.108300</td>\n",
       "      <td>0.005274</td>\n",
       "      <td>-0.190321</td>\n",
       "      <td>-1.175575</td>\n",
       "      <td>0.647376</td>\n",
       "      <td>-0.221929</td>\n",
       "      <td>0.062723</td>\n",
       "      <td>0.061458</td>\n",
       "      <td>123.50</td>\n",
       "      <td>0</td>\n",
       "    </tr>\n",
       "    <tr>\n",
       "      <th>4</th>\n",
       "      <td>2.0</td>\n",
       "      <td>-1.158233</td>\n",
       "      <td>0.877737</td>\n",
       "      <td>1.548718</td>\n",
       "      <td>0.403034</td>\n",
       "      <td>-0.407193</td>\n",
       "      <td>0.095921</td>\n",
       "      <td>0.592941</td>\n",
       "      <td>-0.270533</td>\n",
       "      <td>0.817739</td>\n",
       "      <td>...</td>\n",
       "      <td>-0.009431</td>\n",
       "      <td>0.798278</td>\n",
       "      <td>-0.137458</td>\n",
       "      <td>0.141267</td>\n",
       "      <td>-0.206010</td>\n",
       "      <td>0.502292</td>\n",
       "      <td>0.219422</td>\n",
       "      <td>0.215153</td>\n",
       "      <td>69.99</td>\n",
       "      <td>0</td>\n",
       "    </tr>\n",
       "  </tbody>\n",
       "</table>\n",
       "<p>5 rows × 31 columns</p>\n",
       "</div>"
      ],
      "text/plain": [
       "   Time        V1        V2        V3        V4        V5        V6        V7  \\\n",
       "0   0.0 -1.359807 -0.072781  2.536347  1.378155 -0.338321  0.462388  0.239599   \n",
       "1   0.0  1.191857  0.266151  0.166480  0.448154  0.060018 -0.082361 -0.078803   \n",
       "2   1.0 -1.358354 -1.340163  1.773209  0.379780 -0.503198  1.800499  0.791461   \n",
       "3   1.0 -0.966272 -0.185226  1.792993 -0.863291 -0.010309  1.247203  0.237609   \n",
       "4   2.0 -1.158233  0.877737  1.548718  0.403034 -0.407193  0.095921  0.592941   \n",
       "\n",
       "         V8        V9  ...       V21       V22       V23       V24       V25  \\\n",
       "0  0.098698  0.363787  ... -0.018307  0.277838 -0.110474  0.066928  0.128539   \n",
       "1  0.085102 -0.255425  ... -0.225775 -0.638672  0.101288 -0.339846  0.167170   \n",
       "2  0.247676 -1.514654  ...  0.247998  0.771679  0.909412 -0.689281 -0.327642   \n",
       "3  0.377436 -1.387024  ... -0.108300  0.005274 -0.190321 -1.175575  0.647376   \n",
       "4 -0.270533  0.817739  ... -0.009431  0.798278 -0.137458  0.141267 -0.206010   \n",
       "\n",
       "        V26       V27       V28  Amount  Class  \n",
       "0 -0.189115  0.133558 -0.021053  149.62      0  \n",
       "1  0.125895 -0.008983  0.014724    2.69      0  \n",
       "2 -0.139097 -0.055353 -0.059752  378.66      0  \n",
       "3 -0.221929  0.062723  0.061458  123.50      0  \n",
       "4  0.502292  0.219422  0.215153   69.99      0  \n",
       "\n",
       "[5 rows x 31 columns]"
      ]
     },
     "execution_count": 2,
     "metadata": {},
     "output_type": "execute_result"
    }
   ],
   "source": [
    "df = pd.read_csv('creditcard.csv')\n",
    "\n",
    "df.head()"
   ]
  },
  {
   "cell_type": "code",
   "execution_count": 3,
   "metadata": {},
   "outputs": [
    {
     "data": {
      "text/plain": [
       "(284807, 31)"
      ]
     },
     "execution_count": 3,
     "metadata": {},
     "output_type": "execute_result"
    }
   ],
   "source": [
    "df.shape"
   ]
  },
  {
   "cell_type": "code",
   "execution_count": 4,
   "metadata": {},
   "outputs": [],
   "source": [
    "# separating the dataset\n",
    "\n",
    "X = df.drop('Class', axis=1)\n",
    "y = df['Class']"
   ]
  },
  {
   "cell_type": "code",
   "execution_count": 5,
   "metadata": {},
   "outputs": [],
   "source": [
    "# splitting the data\n",
    "from sklearn.model_selection import train_test_split\n",
    "\n",
    "# doing a 70-30 split\n",
    "X_train, X_test, y_train, y_test = train_test_split(X,y, test_size=0.3, random_state=1)"
   ]
  },
  {
   "cell_type": "code",
   "execution_count": 6,
   "metadata": {},
   "outputs": [
    {
     "data": {
      "text/plain": [
       "LogisticRegression(C=1.0, class_weight=None, dual=False, fit_intercept=True,\n",
       "                   intercept_scaling=1, l1_ratio=None, max_iter=1000,\n",
       "                   multi_class='auto', n_jobs=None, penalty='l2',\n",
       "                   random_state=1, solver='lbfgs', tol=0.0001, verbose=0,\n",
       "                   warm_start=False)"
      ]
     },
     "execution_count": 6,
     "metadata": {},
     "output_type": "execute_result"
    }
   ],
   "source": [
    "# fitting logistic regression to predict fraudulent transactions\n",
    "from sklearn.linear_model import LogisticRegression\n",
    "\n",
    "# instantiate the model\n",
    "logreg = LogisticRegression(random_state=1, max_iter=1000)\n",
    "\n",
    "# fitting the model\n",
    "logreg.fit(X_train, y_train)"
   ]
  },
  {
   "cell_type": "code",
   "execution_count": 7,
   "metadata": {},
   "outputs": [
    {
     "name": "stdout",
     "output_type": "stream",
     "text": [
      "Training data model score: 0.9991773840813788\n",
      "\n",
      "Test data model score: 0.9991222218320986\n"
     ]
    }
   ],
   "source": [
    "# scoring the model\n",
    "\n",
    "print(f'Training data model score: {logreg.score(X_train, y_train)}')\n",
    "print()\n",
    "print(f'Test data model score: {logreg.score(X_test, y_test)}')"
   ]
  },
  {
   "cell_type": "markdown",
   "metadata": {},
   "source": [
    "##### We got terrific accuracy on the dataset. Let's examine the target class frequency"
   ]
  },
  {
   "cell_type": "code",
   "execution_count": 8,
   "metadata": {
    "scrolled": true
   },
   "outputs": [
    {
     "name": "stderr",
     "output_type": "stream",
     "text": [
      "/opt/anaconda3/lib/python3.7/site-packages/seaborn/_decorators.py:43: FutureWarning: Pass the following variable as a keyword arg: x. From version 0.12, the only valid positional argument will be `data`, and passing other arguments without an explicit keyword will result in an error or misinterpretation.\n",
      "  FutureWarning\n"
     ]
    },
    {
     "data": {
      "image/png": "[encoded data removed]",
      "text/plain": [
       "<Figure size 432x288 with 1 Axes>"
      ]
     },
     "metadata": {
      "needs_background": "light"
     },
     "output_type": "display_data"
    }
   ],
   "source": [
    "import seaborn as sns\n",
    "\n",
    "plt.figure()\n",
    "sns.countplot(y)\n",
    "plt.show()"
   ]
  },
  {
   "cell_type": "code",
   "execution_count": 9,
   "metadata": {},
   "outputs": [
    {
     "name": "stdout",
     "output_type": "stream",
     "text": [
      "0    85308\n",
      "1      135\n",
      "Name: Class, dtype: int64\n",
      "0    199007\n",
      "1       357\n",
      "Name: Class, dtype: int64\n"
     ]
    }
   ],
   "source": [
    "print(y_test.value_counts())\n",
    "\n",
    "print(y_train.value_counts())"
   ]
  },
  {
   "cell_type": "markdown",
   "metadata": {},
   "source": [
    "#### There is clearly a class imbalance here with very few number of fraudulent transactions happening (class =1)\n",
    "\n",
    "#### Thus, we cannot rely solely on the model accuracy as the evaluation metric.\n",
    "\n",
    "- According to this model, with target class imbalance, if this predicts a particular transaction to be non-fraudulent, it will be accurate 99.9177% of the times!"
   ]
  },
  {
   "cell_type": "markdown",
   "metadata": {},
   "source": [
    "Let's dive deeper into our results. In binary classification, there are four possible outcomes:\n",
    "\n",
    "1. **True Positive (TP)**: Model predicts that $x$ belongs to the positive class (1) and it is actually positive (1)\n",
    "\n",
    "2. **False Positive (FP)**: Model predicts that $x$  belongs to the positive class (1) but it is acually negative (0)\n",
    "\n",
    "3. **True Negative (TN)**: Model predicts that $x$ belongs to the negative class (0) and it is actually negative (0)\n",
    "\n",
    "4. **False Negative (FN)**: Model predicts that $x$ belongs to the negative class (0) but it is acually positive (1)\n",
    "\n",
    "If we put these outcomes in a matrix, we arrive at what is known as a confusion matrix:\n",
    "\n",
    "|   .  |  Predicted Class 0/-  |   Predicted Class 1/+  | \n",
    "| --------- |:---:|:---:|\n",
    "|Actual Class 0/-|**TN** | **FP** | \n",
    "|Actual Class 1/+|**FN** |**TP** | \n",
    "\n",
    "\n",
    "- The goal of a classification model is to ultimately minimize misclassification i.e minimize FP and FN\n",
    "\n",
    "Using these definitions, accuracy can be written as:\n",
    "\n",
    "$$Accuracy = \\frac{TN+TP}{TN+FP+FN+TP}$$\n",
    "\n",
    "Lets get the confusion matrix for our data:"
   ]
  },
  {
   "cell_type": "code",
   "execution_count": 10,
   "metadata": {},
   "outputs": [],
   "source": [
    "from sklearn.metrics import confusion_matrix"
   ]
  },
  {
   "cell_type": "code",
   "execution_count": 11,
   "metadata": {},
   "outputs": [
    {
     "data": {
      "text/plain": [
       "array([[85292,    16],\n",
       "       [   59,    76]])"
      ]
     },
     "execution_count": 11,
     "metadata": {},
     "output_type": "execute_result"
    }
   ],
   "source": [
    "y_predicted = logreg.predict(X_test)\n",
    "\n",
    "matrix = confusion_matrix(y_test, y_predicted)\n",
    "matrix"
   ]
  },
  {
   "cell_type": "code",
   "execution_count": 12,
   "metadata": {},
   "outputs": [],
   "source": [
    "# visualizing confusion matrix\n",
    "\n",
    "from sklearn.metrics import ConfusionMatrixDisplay"
   ]
  },
  {
   "cell_type": "code",
   "execution_count": 13,
   "metadata": {
    "scrolled": true
   },
   "outputs": [
    {
     "data": {
      "text/plain": [
       "<sklearn.metrics._plot.confusion_matrix.ConfusionMatrixDisplay at 0x7f8c619530d0>"
      ]
     },
     "execution_count": 13,
     "metadata": {},
     "output_type": "execute_result"
    },
    {
     "data": {
      "image/png": "[encoded data removed]",
      "text/plain": [
       "<Figure size 432x288 with 2 Axes>"
      ]
     },
     "metadata": {
      "needs_background": "light"
     },
     "output_type": "display_data"
    }
   ],
   "source": [
    "matrix_display = ConfusionMatrixDisplay(matrix, display_labels=['0', '1'])\n",
    "matrix_display.plot()\n"
   ]
  },
  {
   "cell_type": "markdown",
   "metadata": {},
   "source": [
    "##### Lets interpret this confusion matrix\n",
    "\n",
    "\n",
    "|   .  |  Predicted Non-fraudulent (0/-)  |   Predicted Fraudulent (1/+)  | \n",
    "| --------- |:---:|:---:|\n",
    "|True Non-fraudulent (0/-) |85292 | 16 | \n",
    "|True Fraudulent (1/+) |59 |76 | \n",
    "\n",
    "\n",
    "* **TN**: Model classified 85,292 legitimate(non-fraudulent) transactions that were indeed non-fraudulent\n",
    "* **FP**: Model classified 16 transactions as fraudulent that were actually non-fraudulent\n",
    "* **FN**: Model classified 59 transactions as non-fraudulent that were actually fraudulent\n",
    "* **TP**: Model classified 76 fraudulent transactions that were indeed fraud\n",
    "\n",
    "\n",
    "The goal is to identify the frauds (class 1). Out of 135 (76+59) total fraudulent transactions in the test data, the model correctly identified only 76 or 56% of such transactions.\n",
    "\n",
    "Moreover 16 transactions were misclassified as fraud. \n",
    "\n",
    "These are serious oversights in this model, with only 56% of the frauds being correctly identified by it."
   ]
  },
  {
   "cell_type": "markdown",
   "metadata": {},
   "source": [
    "### Precision and Recall\n",
    "\n",
    "Because of the fact that accuracy alone can be misleading depending on the class balance of the data, alternative metrics which consider the relative proportions of correct and incorrect classifications in both the positive and negative classes. Two of the most common are *precision* and *recall*. \n"
   ]
  },
  {
   "cell_type": "markdown",
   "metadata": {},
   "source": [
    "**Precision**: whenever you are concerned about the impact of *False Positives*, precision metric should be evaluated.\n",
    "\n",
    "\n",
    "$$Precision = \\frac{TP}{TP+FP}$$\n",
    "\n",
    "TP+FP: total number of positive classifications **done by the model**\n",
    "\n",
    "Precision measures that out of all **positive predictions** by the model, how many datapoints are truly positive. \n",
    "\n",
    "For Precision, think about **prediction** as the basis of evaluation.\n",
    "\n",
    "- Higher # of FP -> Lower Precision\n",
    "\n",
    "- Lower # of FP -> Higher Precision\n",
    "\n",
    "\n",
    "\n",
    "\n"
   ]
  },
  {
   "cell_type": "markdown",
   "metadata": {},
   "source": [
    "\n",
    "\n",
    "**Recall**: whenever you are concerned about the impact of *False Negatives*, recall metric should be evaluated.\n",
    "\n",
    "\n",
    "$$Recall = \\frac{TP}{TP+FN}$$\n",
    "\n",
    "TP+FN: total number of classification belonging to **actual/true positive class**\n",
    "\n",
    "Recall measures that out of all the datapoints belonging to acual positive class, **how many points were correctly identified by the model as positives**\n",
    "\n",
    "For recall, think about **actual/true data** as the basis of evaluation.\n",
    "\n",
    "- Higher # of FN -> Lower Recall\n",
    "\n",
    "- Lower # of FN -> Higher Recall"
   ]
  },
  {
   "cell_type": "markdown",
   "metadata": {},
   "source": [
    "##### Back to our model\n",
    "\n",
    "|   .  |  Predicted Non-fraudulent (0/-)  |   Predicted Fraudulent (1/+)  | \n",
    "| --------- |:---:|:---:|\n",
    "|True Non-fraudulent (0/-) |85292 | 16 | \n",
    "|True Fraudulent (1/+) |59 |76 | \n",
    "\n"
   ]
  },
  {
   "cell_type": "markdown",
   "metadata": {},
   "source": [
    "**Precision**: Out of 92 transactions predicted by the model as fraudulent/+, 76 were indeed truly fraudulent/+.\n",
    "$$Precision = \\frac{76}{76+16} = \\frac{76}{92}= 82.60\\%$$"
   ]
  },
  {
   "cell_type": "markdown",
   "metadata": {},
   "source": [
    "**Recall**: Out of 135 transactions belonging to fradulent/+ class, 76 were correctly identified by the model as fraudulent/+\n",
    "$$Recall =\\frac{76}{76+59} = \\frac{76}{135} = 59.29\\%$$\n",
    "\n"
   ]
  },
  {
   "cell_type": "code",
   "execution_count": 14,
   "metadata": {},
   "outputs": [
    {
     "name": "stdout",
     "output_type": "stream",
     "text": [
      "Model's Precision: 0.8260869565217391\n"
     ]
    }
   ],
   "source": [
    "# obtaining Precision score\n",
    "\n",
    "from sklearn.metrics import precision_score\n",
    "\n",
    "print(f\"Model's Precision: {precision_score(y_test, y_predicted)}\")"
   ]
  },
  {
   "cell_type": "code",
   "execution_count": 15,
   "metadata": {},
   "outputs": [
    {
     "name": "stdout",
     "output_type": "stream",
     "text": [
      "Model's Recall: 0.562962962962963\n"
     ]
    }
   ],
   "source": [
    "# obtaining Recall score\n",
    "\n",
    "from sklearn.metrics import recall_score\n",
    "\n",
    "print(f\"Model's Recall: {recall_score(y_test, y_predicted)}\")"
   ]
  },
  {
   "cell_type": "markdown",
   "metadata": {},
   "source": [
    "**100% Precision**: means that all of the transactions classified by the model as fraudulent/+ are indeed fraudulent. The model is very precise in predicting fraud.\n",
    "\n",
    "**0% Precision**: means that of all the transactions classified by the model as fradululent/+, none of the transactions are actually fraudulent. "
   ]
  },
  {
   "cell_type": "markdown",
   "metadata": {},
   "source": [
    "**100% Recall**: means that off all the true fraudulent/+ transactions, the model is able to correctly classify all of the transactions as fraudulent.\n",
    "\n",
    "**0% Recall**: means that off all the true fraudulent/+ transactions, the mode is unable to classifiy any transaction as fraudulent."
   ]
  },
  {
   "cell_type": "markdown",
   "metadata": {},
   "source": [
    "If I am able to recall every fraud, I could be also calling a lot of non-fraudulent transactions fraud. This means that my precision would be lower. We have an imprecise model (_i.e._ there are more false positives) but one that is very likely to predict all instances of fraud which did occur, at the expense of incorrectly labeling some legitimate transactions fraudulent.\n",
    "\n",
    "If everything I predict to be a fraud is fraud, it doesn't necessarily mean that I am capturing all of the fraudulent transactions, only that I am very confident in my predictions of which transactions are fraudulent. This means that my recall would be lower. I have a highly precise model, but at the expense of missing many of the fraudulent transactions which may have occurred (_i.e._ there are more false negatives).\n",
    "\n",
    "So, we can improve either at the expense of the other. There is always a trade-off between precision and recall, between correctly predicting the positive and negative classes.\n",
    "\n",
    "Another common metric that combines the two measures is the $F_1$ score:\n",
    "\n",
    "$$F_1 = 2 \\cdot \\frac{precision \\cdot recall}{precision + recall}$$\n",
    "\n",
    "\n",
    "The F1 score is the harmonic average of the precision and recall. An F1 score reaches its best value at 1 (perfect precision and recall) and worst at 0.\n",
    "\n",
    "There is no intuitive explanation of the F1 score. We use the F1 score in order to try and maximize the precision and recall scores. Models with a higher F1 score are usually better at predicting the positive class. "
   ]
  },
  {
   "cell_type": "code",
   "execution_count": 16,
   "metadata": {},
   "outputs": [
    {
     "data": {
      "text/plain": [
       "0.669603524229075"
      ]
     },
     "execution_count": 16,
     "metadata": {},
     "output_type": "execute_result"
    }
   ],
   "source": [
    "from sklearn.metrics import f1_score\n",
    "\n",
    "f1_score(y_test, y_predicted)"
   ]
  },
  {
   "cell_type": "markdown",
   "metadata": {},
   "source": [
    "Finally, the very handy `classification_report` function in `sklearn.metrics` will compute precision, recall, and $F_1$ score for both the positive and negative classes in a nicely formatted output:"
   ]
  },
  {
   "cell_type": "code",
   "execution_count": 17,
   "metadata": {},
   "outputs": [
    {
     "name": "stdout",
     "output_type": "stream",
     "text": [
      "              precision    recall  f1-score   support\n",
      "\n",
      "           0       1.00      1.00      1.00     85308\n",
      "           1       0.83      0.56      0.67       135\n",
      "\n",
      "    accuracy                           1.00     85443\n",
      "   macro avg       0.91      0.78      0.83     85443\n",
      "weighted avg       1.00      1.00      1.00     85443\n",
      "\n"
     ]
    }
   ],
   "source": [
    "from sklearn.metrics import classification_report\n",
    "\n",
    "report = classification_report(y_test, y_predicted)\n",
    "\n",
    "print(report)"
   ]
  },
  {
   "cell_type": "markdown",
   "metadata": {},
   "source": [
    "### True Positive Rate, False Positive Rate\n",
    "\n",
    "For classifiers such as Logistic Regression, by varying the threshold at which we consider a point to be classified into the positive class, we can tailor the model to have higher precision or recall depending upon the nature of the problem or domain knowledge. \n",
    "\n",
    "For example, if the threshold is set at 0.5, it means the model classifies a datapoint to class 1 if the predicted probability is higher that 0.5.\n",
    "\n",
    "If the threshold is lowered to say 0.4, the more datapoint are likely to be classified by the model into the positive class. This would also mean that some of the negative class points could also be incorrectly classified to positive class. Lowering the threshold typically **increases both true positives and false positives**.\n",
    "\n",
    "If the threshold is increased to say 0.7, the more datapoints are likely to be classified into the negative class, leading to some positive points incorrectly classified to negative. Increasing the threshold typically **increases both true negatives and false negatives**.\n",
    "\n",
    "Lets see how varying the threshold affects the precision and recall of this model. I have used 'predict_proba' method of logistic regression model to get the probability scores and then manually assigned the probabilites to respective classes based on chosed threshold cutoff."
   ]
  },
  {
   "cell_type": "code",
   "execution_count": 22,
   "metadata": {},
   "outputs": [
    {
     "data": {
      "text/plain": [
       "array([[9.99001890e-01, 9.98109725e-04],\n",
       "       [9.99984501e-01, 1.54987533e-05],\n",
       "       [9.99938414e-01, 6.15855879e-05],\n",
       "       ...,\n",
       "       [9.98744727e-01, 1.25527347e-03],\n",
       "       [9.99915140e-01, 8.48600248e-05],\n",
       "       [9.99333894e-01, 6.66106093e-04]])"
      ]
     },
     "execution_count": 22,
     "metadata": {},
     "output_type": "execute_result"
    }
   ],
   "source": [
    "logreg.predict_proba(X_test)\n",
    "# the first value is the prob. of datapoint belonging to 0\n",
    "# second values is the prob. of datapoint belonging to 1"
   ]
  },
  {
   "cell_type": "code",
   "execution_count": 23,
   "metadata": {},
   "outputs": [
    {
     "data": {
      "text/plain": [
       "array([9.98109725e-04, 1.54987533e-05, 6.15855879e-05, ...,\n",
       "       1.25527347e-03, 8.48600248e-05, 6.66106093e-04])"
      ]
     },
     "execution_count": 23,
     "metadata": {},
     "output_type": "execute_result"
    }
   ],
   "source": [
    "# using second value..belonging to class 1\n",
    "y_proba = logreg.predict_proba(X_test)[:,1]\n",
    "y_proba"
   ]
  },
  {
   "cell_type": "code",
   "execution_count": 24,
   "metadata": {},
   "outputs": [
    {
     "name": "stdout",
     "output_type": "stream",
     "text": [
      "At threshold = 0.5\n",
      "Precision score: 0.8260869565217391\n",
      "Recall score: 0.562962962962963\n"
     ]
    }
   ],
   "source": [
    "# precision and recall using 0.5 as threshold\n",
    "y_thresh = np.where(y_proba > 0.5, 1, 0) #prob values > 0.5 assigned 1\n",
    "print('At threshold = 0.5')\n",
    "print(f'Precision score: {precision_score(y_test, y_thresh)}')\n",
    "print(f'Recall score: {recall_score(y_test, y_thresh)}')"
   ]
  },
  {
   "cell_type": "code",
   "execution_count": 25,
   "metadata": {},
   "outputs": [
    {
     "name": "stdout",
     "output_type": "stream",
     "text": [
      "At threshold = 0.8\n",
      "Precision score: 0.8625\n",
      "Recall score: 0.5111111111111111\n"
     ]
    }
   ],
   "source": [
    "# at 0.8 threshold\n",
    "y_thresh = np.where(y_proba > 0.8, 1, 0)\n",
    "print('At threshold = 0.8')\n",
    "print(f'Precision score: {precision_score(y_test, y_thresh)}')\n",
    "print(f'Recall score: {recall_score(y_test, y_thresh)}')"
   ]
  },
  {
   "cell_type": "code",
   "execution_count": 26,
   "metadata": {
    "scrolled": true
   },
   "outputs": [
    {
     "name": "stdout",
     "output_type": "stream",
     "text": [
      "At threshold = 0.2\n",
      "Precision score: 0.6885245901639344\n",
      "Recall score: 0.6222222222222222\n"
     ]
    }
   ],
   "source": [
    "# at 0.2 threshold\n",
    "y_thresh = np.where(y_proba > 0.2, 1, 0)\n",
    "print('At threshold = 0.2')\n",
    "print(f'Precision score: {precision_score(y_test, y_thresh)}')\n",
    "print(f'Recall score: {recall_score(y_test, y_thresh)}')"
   ]
  },
  {
   "cell_type": "markdown",
   "metadata": {},
   "source": [
    "**Precision**\n",
    "At lower threshold (0.2), many points are classified as positive and many points that are actually negative are also classified incorrectly as positive -> increasing false positives. Since FPs increase, the overall precision score decreases quite a bit (compared to 0.5 threshold).\n",
    "\n",
    "At higher threshold (0.8), there are very few incorrectly classified positives -> reduced number of false positives. Since FPs decrease, the overall precision score increases compared to 0.5 threshold. The model is getting more precise in classifing the positive as truly positives."
   ]
  },
  {
   "cell_type": "markdown",
   "metadata": {},
   "source": [
    "**Recall** At lower threshold(0.2), many points are classified positive including increase in false positives. This also means that there is lower probability for the model to classify false negatives. Since FNs are fewer, the overall recall increases compared to 0.5 threshold.\n",
    "\n",
    "At higher threshold(0.8), many points are classified negatives with posible increase in false negatives. Since FNs are more numerous, the overall recall score decreases compared to 0.5 thereshold."
   ]
  },
  {
   "cell_type": "code",
   "execution_count": null,
   "metadata": {},
   "outputs": [],
   "source": []
  }
 ],
 "metadata": {
  "kernelspec": {
   "display_name": "Python 3",
   "language": "python",
   "name": "python3"
  },
  "language_info": {
   "codemirror_mode": {
    "name": "ipython",
    "version": 3
   },
   "file_extension": ".py",
   "mimetype": "text/x-python",
   "name": "python",
   "nbconvert_exporter": "python",
   "pygments_lexer": "ipython3",
   "version": "3.7.6"
  }
 },
 "nbformat": 4,
 "nbformat_minor": 4
}
